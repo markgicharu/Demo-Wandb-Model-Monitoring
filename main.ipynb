{
 "cells": [
  {
   "cell_type": "code",
   "execution_count": 1,
   "metadata": {},
   "outputs": [],
   "source": [
    "import wandb\r\n",
    "import pandas as pd\r\n",
    "import numpy as np\r\n",
    "import os\r\n",
    "import shutil\r\n",
    "\r\n",
    "import torch\r\n",
    "import torch.nn as nn\r\n",
    "from torch.nn import functional as F\r\n",
    "import torch.optim as optim\r\n",
    "import torchmetrics\r\n"
   ]
  },
  {
   "cell_type": "code",
   "execution_count": 2,
   "metadata": {},
   "outputs": [],
   "source": [
    "# Import Metrics for use with evaluation\r\n",
    "\r\n",
    "from sklearn.preprocessing import LabelEncoder\r\n",
    "from sklearn.metrics import accuracy_score, precision_score, recall_score, confusion_matrix, classification_report\r\n",
    "\r\n",
    "# Split dataset in train and test with a ratio of 70-30\r\n",
    "\r\n",
    "from sklearn.model_selection import train_test_split\r\n"
   ]
  },
  {
   "cell_type": "code",
   "execution_count": 3,
   "metadata": {},
   "outputs": [],
   "source": [
    "# set device to cuda if available else pass to cpu\r\n",
    "device = torch.device(\"cuda:0\" if torch.cuda.is_available() else \"cpu\")"
   ]
  },
  {
   "cell_type": "code",
   "execution_count": 4,
   "metadata": {},
   "outputs": [
    {
     "name": "stderr",
     "output_type": "stream",
     "text": [
      "Failed to detect the name of this notebook, you can set it manually with the WANDB_NOTEBOOK_NAME environment variable to enable code saving.\n",
      "wandb: Currently logged in as: markgich (use `wandb login --relogin` to force relogin)\n"
     ]
    },
    {
     "data": {
      "text/plain": [
       "True"
      ]
     },
     "execution_count": 4,
     "metadata": {},
     "output_type": "execute_result"
    }
   ],
   "source": [
    "# %env \"WANDB_NOTEBOOK_NAME\" \"demo_wine_wandb_test\"\r\n",
    "wandb.login()"
   ]
  },
  {
   "cell_type": "code",
   "execution_count": 5,
   "metadata": {},
   "outputs": [],
   "source": [
    "# SET SEED\r\n",
    "torch.manual_seed(32)\r\n",
    "np.random.seed(32)\r\n",
    "torch.use_deterministic_algorithms(True)"
   ]
  },
  {
   "cell_type": "code",
   "execution_count": 6,
   "metadata": {},
   "outputs": [
    {
     "data": {
      "text/html": [
       "<div>\n",
       "<style scoped>\n",
       "    .dataframe tbody tr th:only-of-type {\n",
       "        vertical-align: middle;\n",
       "    }\n",
       "\n",
       "    .dataframe tbody tr th {\n",
       "        vertical-align: top;\n",
       "    }\n",
       "\n",
       "    .dataframe thead th {\n",
       "        text-align: right;\n",
       "    }\n",
       "</style>\n",
       "<table border=\"1\" class=\"dataframe\">\n",
       "  <thead>\n",
       "    <tr style=\"text-align: right;\">\n",
       "      <th></th>\n",
       "      <th>Class</th>\n",
       "      <th>Alcohol</th>\n",
       "      <th>Malic acid</th>\n",
       "      <th>Ash</th>\n",
       "      <th>Alcalinity of ash</th>\n",
       "      <th>Magnesium</th>\n",
       "      <th>Total phenols</th>\n",
       "      <th>Flavanoids</th>\n",
       "      <th>Nonflavanoid phenols</th>\n",
       "      <th>Proanthocyanins</th>\n",
       "      <th>Color intensity</th>\n",
       "      <th>Hue</th>\n",
       "      <th>OD280/OD315 of diluted wines</th>\n",
       "      <th>Proline</th>\n",
       "    </tr>\n",
       "  </thead>\n",
       "  <tbody>\n",
       "    <tr>\n",
       "      <th>0</th>\n",
       "      <td>0</td>\n",
       "      <td>14.23</td>\n",
       "      <td>1.71</td>\n",
       "      <td>2.43</td>\n",
       "      <td>15.6</td>\n",
       "      <td>127</td>\n",
       "      <td>2.80</td>\n",
       "      <td>3.06</td>\n",
       "      <td>0.28</td>\n",
       "      <td>2.29</td>\n",
       "      <td>5.64</td>\n",
       "      <td>1.04</td>\n",
       "      <td>3.92</td>\n",
       "      <td>1065</td>\n",
       "    </tr>\n",
       "    <tr>\n",
       "      <th>1</th>\n",
       "      <td>0</td>\n",
       "      <td>13.20</td>\n",
       "      <td>1.78</td>\n",
       "      <td>2.14</td>\n",
       "      <td>11.2</td>\n",
       "      <td>100</td>\n",
       "      <td>2.65</td>\n",
       "      <td>2.76</td>\n",
       "      <td>0.26</td>\n",
       "      <td>1.28</td>\n",
       "      <td>4.38</td>\n",
       "      <td>1.05</td>\n",
       "      <td>3.40</td>\n",
       "      <td>1050</td>\n",
       "    </tr>\n",
       "    <tr>\n",
       "      <th>2</th>\n",
       "      <td>0</td>\n",
       "      <td>13.16</td>\n",
       "      <td>2.36</td>\n",
       "      <td>2.67</td>\n",
       "      <td>18.6</td>\n",
       "      <td>101</td>\n",
       "      <td>2.80</td>\n",
       "      <td>3.24</td>\n",
       "      <td>0.30</td>\n",
       "      <td>2.81</td>\n",
       "      <td>5.68</td>\n",
       "      <td>1.03</td>\n",
       "      <td>3.17</td>\n",
       "      <td>1185</td>\n",
       "    </tr>\n",
       "    <tr>\n",
       "      <th>3</th>\n",
       "      <td>0</td>\n",
       "      <td>14.37</td>\n",
       "      <td>1.95</td>\n",
       "      <td>2.50</td>\n",
       "      <td>16.8</td>\n",
       "      <td>113</td>\n",
       "      <td>3.85</td>\n",
       "      <td>3.49</td>\n",
       "      <td>0.24</td>\n",
       "      <td>2.18</td>\n",
       "      <td>7.80</td>\n",
       "      <td>0.86</td>\n",
       "      <td>3.45</td>\n",
       "      <td>1480</td>\n",
       "    </tr>\n",
       "    <tr>\n",
       "      <th>4</th>\n",
       "      <td>0</td>\n",
       "      <td>13.24</td>\n",
       "      <td>2.59</td>\n",
       "      <td>2.87</td>\n",
       "      <td>21.0</td>\n",
       "      <td>118</td>\n",
       "      <td>2.80</td>\n",
       "      <td>2.69</td>\n",
       "      <td>0.39</td>\n",
       "      <td>1.82</td>\n",
       "      <td>4.32</td>\n",
       "      <td>1.04</td>\n",
       "      <td>2.93</td>\n",
       "      <td>735</td>\n",
       "    </tr>\n",
       "  </tbody>\n",
       "</table>\n",
       "</div>"
      ],
      "text/plain": [
       "   Class  Alcohol  Malic acid   Ash  Alcalinity of ash  Magnesium  \\\n",
       "0      0    14.23        1.71  2.43               15.6        127   \n",
       "1      0    13.20        1.78  2.14               11.2        100   \n",
       "2      0    13.16        2.36  2.67               18.6        101   \n",
       "3      0    14.37        1.95  2.50               16.8        113   \n",
       "4      0    13.24        2.59  2.87               21.0        118   \n",
       "\n",
       "   Total phenols  Flavanoids  Nonflavanoid phenols  Proanthocyanins  \\\n",
       "0           2.80        3.06                  0.28             2.29   \n",
       "1           2.65        2.76                  0.26             1.28   \n",
       "2           2.80        3.24                  0.30             2.81   \n",
       "3           3.85        3.49                  0.24             2.18   \n",
       "4           2.80        2.69                  0.39             1.82   \n",
       "\n",
       "   Color intensity   Hue  OD280/OD315 of diluted wines  Proline  \n",
       "0             5.64  1.04                          3.92     1065  \n",
       "1             4.38  1.05                          3.40     1050  \n",
       "2             5.68  1.03                          3.17     1185  \n",
       "3             7.80  0.86                          3.45     1480  \n",
       "4             4.32  1.04                          2.93      735  "
      ]
     },
     "execution_count": 6,
     "metadata": {},
     "output_type": "execute_result"
    }
   ],
   "source": [
    "\r\n",
    "df = pd.read_csv(\"./data/wine_data.csv\")\r\n",
    "df.head()"
   ]
  },
  {
   "cell_type": "code",
   "execution_count": 7,
   "metadata": {},
   "outputs": [],
   "source": [
    "\r\n",
    "le = LabelEncoder()\r\n",
    "df['Class'] = le.fit_transform(df['Class'])"
   ]
  },
  {
   "cell_type": "code",
   "execution_count": 8,
   "metadata": {},
   "outputs": [
    {
     "data": {
      "text/html": [
       "<div>\n",
       "<style scoped>\n",
       "    .dataframe tbody tr th:only-of-type {\n",
       "        vertical-align: middle;\n",
       "    }\n",
       "\n",
       "    .dataframe tbody tr th {\n",
       "        vertical-align: top;\n",
       "    }\n",
       "\n",
       "    .dataframe thead th {\n",
       "        text-align: right;\n",
       "    }\n",
       "</style>\n",
       "<table border=\"1\" class=\"dataframe\">\n",
       "  <thead>\n",
       "    <tr style=\"text-align: right;\">\n",
       "      <th></th>\n",
       "      <th>Alcohol</th>\n",
       "      <th>Malic acid</th>\n",
       "      <th>Ash</th>\n",
       "      <th>Alcalinity of ash</th>\n",
       "      <th>Magnesium</th>\n",
       "      <th>Total phenols</th>\n",
       "      <th>Flavanoids</th>\n",
       "      <th>Nonflavanoid phenols</th>\n",
       "      <th>Proanthocyanins</th>\n",
       "      <th>Color intensity</th>\n",
       "      <th>Hue</th>\n",
       "      <th>OD280/OD315 of diluted wines</th>\n",
       "      <th>Proline</th>\n",
       "    </tr>\n",
       "  </thead>\n",
       "  <tbody>\n",
       "    <tr>\n",
       "      <th>0</th>\n",
       "      <td>14.23</td>\n",
       "      <td>1.71</td>\n",
       "      <td>2.43</td>\n",
       "      <td>15.6</td>\n",
       "      <td>127</td>\n",
       "      <td>2.80</td>\n",
       "      <td>3.06</td>\n",
       "      <td>0.28</td>\n",
       "      <td>2.29</td>\n",
       "      <td>5.64</td>\n",
       "      <td>1.04</td>\n",
       "      <td>3.92</td>\n",
       "      <td>1065</td>\n",
       "    </tr>\n",
       "    <tr>\n",
       "      <th>1</th>\n",
       "      <td>13.20</td>\n",
       "      <td>1.78</td>\n",
       "      <td>2.14</td>\n",
       "      <td>11.2</td>\n",
       "      <td>100</td>\n",
       "      <td>2.65</td>\n",
       "      <td>2.76</td>\n",
       "      <td>0.26</td>\n",
       "      <td>1.28</td>\n",
       "      <td>4.38</td>\n",
       "      <td>1.05</td>\n",
       "      <td>3.40</td>\n",
       "      <td>1050</td>\n",
       "    </tr>\n",
       "    <tr>\n",
       "      <th>2</th>\n",
       "      <td>13.16</td>\n",
       "      <td>2.36</td>\n",
       "      <td>2.67</td>\n",
       "      <td>18.6</td>\n",
       "      <td>101</td>\n",
       "      <td>2.80</td>\n",
       "      <td>3.24</td>\n",
       "      <td>0.30</td>\n",
       "      <td>2.81</td>\n",
       "      <td>5.68</td>\n",
       "      <td>1.03</td>\n",
       "      <td>3.17</td>\n",
       "      <td>1185</td>\n",
       "    </tr>\n",
       "    <tr>\n",
       "      <th>3</th>\n",
       "      <td>14.37</td>\n",
       "      <td>1.95</td>\n",
       "      <td>2.50</td>\n",
       "      <td>16.8</td>\n",
       "      <td>113</td>\n",
       "      <td>3.85</td>\n",
       "      <td>3.49</td>\n",
       "      <td>0.24</td>\n",
       "      <td>2.18</td>\n",
       "      <td>7.80</td>\n",
       "      <td>0.86</td>\n",
       "      <td>3.45</td>\n",
       "      <td>1480</td>\n",
       "    </tr>\n",
       "    <tr>\n",
       "      <th>4</th>\n",
       "      <td>13.24</td>\n",
       "      <td>2.59</td>\n",
       "      <td>2.87</td>\n",
       "      <td>21.0</td>\n",
       "      <td>118</td>\n",
       "      <td>2.80</td>\n",
       "      <td>2.69</td>\n",
       "      <td>0.39</td>\n",
       "      <td>1.82</td>\n",
       "      <td>4.32</td>\n",
       "      <td>1.04</td>\n",
       "      <td>2.93</td>\n",
       "      <td>735</td>\n",
       "    </tr>\n",
       "  </tbody>\n",
       "</table>\n",
       "</div>"
      ],
      "text/plain": [
       "   Alcohol  Malic acid   Ash  Alcalinity of ash  Magnesium  Total phenols  \\\n",
       "0    14.23        1.71  2.43               15.6        127           2.80   \n",
       "1    13.20        1.78  2.14               11.2        100           2.65   \n",
       "2    13.16        2.36  2.67               18.6        101           2.80   \n",
       "3    14.37        1.95  2.50               16.8        113           3.85   \n",
       "4    13.24        2.59  2.87               21.0        118           2.80   \n",
       "\n",
       "   Flavanoids  Nonflavanoid phenols  Proanthocyanins  Color intensity   Hue  \\\n",
       "0        3.06                  0.28             2.29             5.64  1.04   \n",
       "1        2.76                  0.26             1.28             4.38  1.05   \n",
       "2        3.24                  0.30             2.81             5.68  1.03   \n",
       "3        3.49                  0.24             2.18             7.80  0.86   \n",
       "4        2.69                  0.39             1.82             4.32  1.04   \n",
       "\n",
       "   OD280/OD315 of diluted wines  Proline  \n",
       "0                          3.92     1065  \n",
       "1                          3.40     1050  \n",
       "2                          3.17     1185  \n",
       "3                          3.45     1480  \n",
       "4                          2.93      735  "
      ]
     },
     "execution_count": 8,
     "metadata": {},
     "output_type": "execute_result"
    }
   ],
   "source": [
    "\r\n",
    "# set the feature variables\r\n",
    "\r\n",
    "df_features = df.drop('Class', axis=1)\r\n",
    "df_features.head()"
   ]
  },
  {
   "cell_type": "code",
   "execution_count": 9,
   "metadata": {},
   "outputs": [
    {
     "data": {
      "text/html": [
       "<div>\n",
       "<style scoped>\n",
       "    .dataframe tbody tr th:only-of-type {\n",
       "        vertical-align: middle;\n",
       "    }\n",
       "\n",
       "    .dataframe tbody tr th {\n",
       "        vertical-align: top;\n",
       "    }\n",
       "\n",
       "    .dataframe thead th {\n",
       "        text-align: right;\n",
       "    }\n",
       "</style>\n",
       "<table border=\"1\" class=\"dataframe\">\n",
       "  <thead>\n",
       "    <tr style=\"text-align: right;\">\n",
       "      <th></th>\n",
       "      <th>Class</th>\n",
       "    </tr>\n",
       "  </thead>\n",
       "  <tbody>\n",
       "    <tr>\n",
       "      <th>0</th>\n",
       "      <td>0</td>\n",
       "    </tr>\n",
       "    <tr>\n",
       "      <th>1</th>\n",
       "      <td>0</td>\n",
       "    </tr>\n",
       "    <tr>\n",
       "      <th>2</th>\n",
       "      <td>0</td>\n",
       "    </tr>\n",
       "    <tr>\n",
       "      <th>3</th>\n",
       "      <td>0</td>\n",
       "    </tr>\n",
       "    <tr>\n",
       "      <th>4</th>\n",
       "      <td>0</td>\n",
       "    </tr>\n",
       "  </tbody>\n",
       "</table>\n",
       "</div>"
      ],
      "text/plain": [
       "   Class\n",
       "0      0\n",
       "1      0\n",
       "2      0\n",
       "3      0\n",
       "4      0"
      ]
     },
     "execution_count": 9,
     "metadata": {},
     "output_type": "execute_result"
    }
   ],
   "source": [
    "\r\n",
    "# Set the target variable\r\n",
    "\r\n",
    "df_target = df[['Class']]\r\n",
    "df_target.head()"
   ]
  },
  {
   "cell_type": "code",
   "execution_count": 10,
   "metadata": {},
   "outputs": [
    {
     "name": "stdout",
     "output_type": "stream",
     "text": [
      "torch.Size([124, 13]) torch.Size([54, 13])\n",
      "torch.float32 torch.float32\n"
     ]
    }
   ],
   "source": [
    "# Split the dataset\r\n",
    "X_train, x_test, Y_train, y_test = train_test_split(df_features,\r\n",
    "                                                    df_target,\r\n",
    "                                                    test_size=0.3,\r\n",
    "                                                    random_state=42)\r\n",
    "\r\n",
    "\r\n",
    "X_train.shape, x_test.shape,  Y_train.shape, y_test.shape,\r\n",
    "\r\n",
    "Xtrain = torch.from_numpy(X_train.values).float()\r\n",
    "Xtest = torch.from_numpy(x_test.values).float()\r\n",
    "print(Xtrain.shape, Xtest.shape)\r\n",
    "\r\n",
    "print(Xtrain.dtype, Xtest.dtype)\r\n"
   ]
  },
  {
   "cell_type": "code",
   "execution_count": 11,
   "metadata": {},
   "outputs": [
    {
     "name": "stdout",
     "output_type": "stream",
     "text": [
      "torch.Size([124]) torch.Size([54])\n"
     ]
    }
   ],
   "source": [
    "# Reshape tensor to 1D\r\n",
    "\r\n",
    "Ytrain = torch.from_numpy(Y_train.values).view(1, -1)[0]\r\n",
    "Ytest = torch.from_numpy(y_test.values).view(1, -1)[0]\r\n",
    "print(Ytrain.shape, Ytest.shape)\r\n"
   ]
  },
  {
   "cell_type": "code",
   "execution_count": 12,
   "metadata": {},
   "outputs": [
    {
     "name": "stdout",
     "output_type": "stream",
     "text": [
      "wandb configinput_size:13\n",
      "wandb configoutput_size:3\n",
      "wandb confighidden_size:100\n",
      "wandb configdataset:wine dataset\n",
      "wandb configarchitecture:Linear\n",
      "wandb configonnx_model_path:/models/wine_model.onnx\n",
      "wandb configlearning_rate:0.01\n",
      "wandb configloss:CrossEntropyLoss()\n",
      "wandb configoptimizer:SGD\n"
     ]
    }
   ],
   "source": [
    "input_size = 13\r\n",
    "output_size = 3\r\n",
    "hidden_size = 100\r\n",
    "\r\n",
    "config = dict(\r\n",
    "    input_size=13,\r\n",
    "    output_size=3,\r\n",
    "    hidden_size=100,\r\n",
    "    dataset=\"wine dataset\",\r\n",
    "    architecture='Linear',\r\n",
    "    onnx_model_path=\"/models/wine_model.onnx\",\r\n",
    "    learning_rate=0.01,\r\n",
    "    # CHANGE THE LOSS\r\n",
    "    # loss=nn.NLLLoss(),\r\n",
    "    loss=nn.CrossEntropyLoss(),\r\n",
    "    # CHANGE THE OPTIMIZER\r\n",
    "    # optimizer=\"adam\",\r\n",
    "    optimizer=\"SGD\",\r\n",
    "    # optimizer=\"adagrad\"\r\n",
    ")\r\n",
    "for k, v in config.items():\r\n",
    "    print(f\"wandb config{k}:{v}\")\r\n"
   ]
  },
  {
   "cell_type": "code",
   "execution_count": 13,
   "metadata": {},
   "outputs": [],
   "source": [
    "# Define Class Net\r\n",
    "class Net(nn.Module):\r\n",
    "\r\n",
    "    def __init__(self):\r\n",
    "        super(Net, self).__init__()\r\n",
    "        self.fc1 = nn.Linear(input_size, hidden_size)\r\n",
    "        self.fc2 = nn.Linear(hidden_size, hidden_size)\r\n",
    "        self.fc3 = nn.Linear(hidden_size, output_size)\r\n",
    "\r\n",
    "        # ADD DROPOUT\r\n",
    "        # self.dropout = nn.Dropout(p=0.25)  # DROPOUT\r\n",
    "\r\n",
    "    def forward(self, X):\r\n",
    "        X = torch.sigmoid((self.fc1(X)))\r\n",
    "        # X = self.dropout(X)  # DROPOUT\r\n",
    "        X = torch.sigmoid(self.fc2(X))\r\n",
    "        # X = self.dropout(X)  # DROPOUT\r\n",
    "        X = self.fc3(X)\r\n",
    "\r\n",
    "        return F.log_softmax(X, dim=-1)\r\n",
    "\r\n"
   ]
  },
  {
   "cell_type": "code",
   "execution_count": 14,
   "metadata": {},
   "outputs": [
    {
     "name": "stdout",
     "output_type": "stream",
     "text": [
      "Net(\n",
      "  (fc1): Linear(in_features=13, out_features=100, bias=True)\n",
      "  (fc2): Linear(in_features=100, out_features=100, bias=True)\n",
      "  (fc3): Linear(in_features=100, out_features=3, bias=True)\n",
      ")\n"
     ]
    }
   ],
   "source": [
    "# Instantiate the model\r\n",
    "model = Net()\r\n",
    "# preview out model\r\n",
    "print(model)\r\n"
   ]
  },
  {
   "cell_type": "code",
   "execution_count": 15,
   "metadata": {},
   "outputs": [],
   "source": [
    "\r\n",
    "optimizer = optim.Adam(model.parameters(), lr=config.get(\"learning_rate\"))\r\n",
    "loss_fn = config.get(\"loss\")"
   ]
  },
  {
   "cell_type": "code",
   "execution_count": 16,
   "metadata": {},
   "outputs": [
    {
     "data": {
      "text/html": [
       "\n",
       "                Tracking run with wandb version 0.10.33<br/>\n",
       "                Syncing run <strong style=\"color:#cdcd00\">dark-haze-38</strong> to <a href=\"https://wandb.ai\" target=\"_blank\">Weights & Biases</a> <a href=\"https://docs.wandb.com/integrations/jupyter.html\" target=\"_blank\">(Documentation)</a>.<br/>\n",
       "                Project page: <a href=\"https://wandb.ai/markgich/demo_wandb_sklearn\" target=\"_blank\">https://wandb.ai/markgich/demo_wandb_sklearn</a><br/>\n",
       "                Run page: <a href=\"https://wandb.ai/markgich/demo_wandb_sklearn/runs/1pane1it\" target=\"_blank\">https://wandb.ai/markgich/demo_wandb_sklearn/runs/1pane1it</a><br/>\n",
       "                Run data is saved locally in <code>c:\\Users\\markg\\Documents\\PROGRAMMING\\PYTHON_PROJECTS\\TORCH\\DEMO_WINE_WANDB\\wandb\\run-20210714_173934-1pane1it</code><br/><br/>\n",
       "            "
      ],
      "text/plain": [
       "<IPython.core.display.HTML object>"
      ]
     },
     "metadata": {},
     "output_type": "display_data"
    },
    {
     "name": "stderr",
     "output_type": "stream",
     "text": [
      "wandb: WARNING Calling run.save without any arguments is deprecated.Changes to attributes are automatically persisted.\n"
     ]
    },
    {
     "name": "stdout",
     "output_type": "stream",
     "text": [
      "graph(%input : Float(124, 13, strides=[1, 124], requires_grad=0, device=cpu),\n",
      "      %fc1.weight : Float(100, 13, strides=[13, 1], requires_grad=1, device=cpu),\n",
      "      %fc1.bias : Float(100, strides=[1], requires_grad=1, device=cpu),\n",
      "      %fc2.weight : Float(100, 100, strides=[100, 1], requires_grad=1, device=cpu),\n",
      "      %fc2.bias : Float(100, strides=[1], requires_grad=1, device=cpu),\n",
      "      %fc3.weight : Float(3, 100, strides=[100, 1], requires_grad=1, device=cpu),\n",
      "      %fc3.bias : Float(3, strides=[1], requires_grad=1, device=cpu)):\n",
      "  %7 : Float(124, 100, strides=[100, 1], requires_grad=1, device=cpu) = onnx::Gemm[alpha=1., beta=1., transB=1](%input, %fc1.weight, %fc1.bias) # c:\\Users\\markg\\venv\\torch-venv\\lib\\site-packages\\torch\\nn\\functional.py:1753:0\n",
      "  %8 : Float(124, 100, strides=[100, 1], requires_grad=1, device=cpu) = onnx::Sigmoid(%7) # <ipython-input-13-c039220e49cb>:14:0\n",
      "  %9 : Float(124, 100, strides=[100, 1], requires_grad=1, device=cpu) = onnx::Gemm[alpha=1., beta=1., transB=1](%8, %fc2.weight, %fc2.bias) # c:\\Users\\markg\\venv\\torch-venv\\lib\\site-packages\\torch\\nn\\functional.py:1753:0\n",
      "  %10 : Float(124, 100, strides=[100, 1], requires_grad=1, device=cpu) = onnx::Sigmoid(%9) # <ipython-input-13-c039220e49cb>:16:0\n",
      "  %11 : Float(124, 3, strides=[3, 1], requires_grad=1, device=cpu) = onnx::Gemm[alpha=1., beta=1., transB=1](%10, %fc3.weight, %fc3.bias) # c:\\Users\\markg\\venv\\torch-venv\\lib\\site-packages\\torch\\nn\\functional.py:1753:0\n",
      "  %output : Float(124, 3, strides=[3, 1], requires_grad=1, device=cpu) = onnx::LogSoftmax[axis=1](%11) # c:\\Users\\markg\\venv\\torch-venv\\lib\\site-packages\\torch\\nn\\functional.py:1672:0\n",
      "  return (%output)\n",
      "\n"
     ]
    },
    {
     "data": {
      "text/html": [
       "<br/>Waiting for W&B process to finish, PID 17492<br/>Program ended successfully."
      ],
      "text/plain": [
       "<IPython.core.display.HTML object>"
      ]
     },
     "metadata": {},
     "output_type": "display_data"
    },
    {
     "data": {
      "application/vnd.jupyter.widget-view+json": {
       "model_id": "3d3a4dd2e6fe42589fc036b043477be8",
       "version_major": 2,
       "version_minor": 0
      },
      "text/plain": [
       "VBox(children=(Label(value=' 0.03MB of 0.03MB uploaded (0.00MB deduped)\\r'), FloatProgress(value=1.0, max=1.0)…"
      ]
     },
     "metadata": {},
     "output_type": "display_data"
    },
    {
     "data": {
      "text/html": [
       "Find user logs for this run at: <code>c:\\Users\\markg\\Documents\\PROGRAMMING\\PYTHON_PROJECTS\\TORCH\\DEMO_WINE_WANDB\\wandb\\run-20210714_173934-1pane1it\\logs\\debug.log</code>"
      ],
      "text/plain": [
       "<IPython.core.display.HTML object>"
      ]
     },
     "metadata": {},
     "output_type": "display_data"
    },
    {
     "data": {
      "text/html": [
       "Find internal logs for this run at: <code>c:\\Users\\markg\\Documents\\PROGRAMMING\\PYTHON_PROJECTS\\TORCH\\DEMO_WINE_WANDB\\wandb\\run-20210714_173934-1pane1it\\logs\\debug-internal.log</code>"
      ],
      "text/plain": [
       "<IPython.core.display.HTML object>"
      ]
     },
     "metadata": {},
     "output_type": "display_data"
    },
    {
     "data": {
      "text/html": [
       "<h3>Run summary:</h3><br/><style>\n",
       "    table.wandb td:nth-child(1) { padding: 0 10px; text-align: right }\n",
       "    </style><table class=\"wandb\">\n",
       "<tr><td>_runtime</td><td>12</td></tr><tr><td>_timestamp</td><td>1626273586</td></tr><tr><td>_step</td><td>1002</td></tr></table>"
      ],
      "text/plain": [
       "<IPython.core.display.HTML object>"
      ]
     },
     "metadata": {},
     "output_type": "display_data"
    },
    {
     "data": {
      "text/html": [
       "<h3>Run history:</h3><br/><style>\n",
       "    table.wandb td:nth-child(1) { padding: 0 10px; text-align: right }\n",
       "    </style><table class=\"wandb\">\n",
       "<tr><td>_runtime</td><td>▁▁▁▁▁▁▁▃▃▃▃▃▃▃▃▅▅▅▅▅▅▅▅▆▆▆▆▆▆▆▆▆████████</td></tr><tr><td>_timestamp</td><td>▁▁▁▁▁▁▁▃▃▃▃▃▃▃▃▅▅▅▅▅▅▅▅▆▆▆▆▆▆▆▆▆████████</td></tr><tr><td>_step</td><td>▁▁▁▂▂▂▂▂▂▃▃▃▃▃▄▄▄▄▄▄▅▅▅▅▅▅▆▆▆▆▆▇▇▇▇▇▇███</td></tr></table><br/>"
      ],
      "text/plain": [
       "<IPython.core.display.HTML object>"
      ]
     },
     "metadata": {},
     "output_type": "display_data"
    },
    {
     "data": {
      "text/html": [
       "Synced 5 W&B file(s), 3 media file(s), 2 artifact file(s) and 2 other file(s)"
      ],
      "text/plain": [
       "<IPython.core.display.HTML object>"
      ]
     },
     "metadata": {},
     "output_type": "display_data"
    },
    {
     "data": {
      "text/html": [
       "\n",
       "                    <br/>Synced <strong style=\"color:#cdcd00\">dark-haze-38</strong>: <a href=\"https://wandb.ai/markgich/demo_wandb_sklearn/runs/1pane1it\" target=\"_blank\">https://wandb.ai/markgich/demo_wandb_sklearn/runs/1pane1it</a><br/>\n",
       "                "
      ],
      "text/plain": [
       "<IPython.core.display.HTML object>"
      ]
     },
     "metadata": {},
     "output_type": "display_data"
    }
   ],
   "source": [
    "# TRAINING LOOP\r\n",
    "# TRAIN THE MODEL\r\n",
    "epochs = 1000\r\n",
    "with wandb.init(project=\"demo_wandb_sklearn\", config=config):\r\n",
    "    wandb.watch(model, criterion=loss_fn, log=\"all\", log_freq=10)\r\n",
    "\r\n",
    "    for epoch in range(epochs):\r\n",
    "\r\n",
    "        optimizer.zero_grad()\r\n",
    "        Ypred = model(Xtrain)\r\n",
    "\r\n",
    "        loss = loss_fn(Ypred, Ytrain)\r\n",
    "        acc = torchmetrics.functional.accuracy(Ypred, Ytrain)\r\n",
    "        loss.backward()\r\n",
    "\r\n",
    "        optimizer.step()\r\n",
    "\r\n",
    "        wandb.log(\r\n",
    "            {\"Train\": {'Epoch': epoch, \"Loss\": loss.item(), \"Accuracy\": acc}})\r\n",
    "\r\n",
    "    # SAVE MODEL STATE DICT TO DISK\r\n",
    "\r\n",
    "    wandb.save(torch.save(model.state_dict(), \"./models/wine_train.pt\"))\r\n",
    "\r\n",
    "    # LOAD MODEL FROM DISK and EVALUATE\r\n",
    "\r\n",
    "    new_model = Net()\r\n",
    "    new_model.load_state_dict(torch.load(\"./models/wine_train.pt\"))\r\n",
    "    new_model.eval()\r\n",
    "\r\n",
    "    # SET THE PREDICTIONS\r\n",
    "\r\n",
    "    predict = new_model(Xtest)\r\n",
    "    _, predict_y = torch.max(predict, 1)\r\n",
    "\r\n",
    "    # VISUALIZE CONFUSION MATRIX\r\n",
    "\r\n",
    "    wandb.sklearn.plot_confusion_matrix(Ytest, predict_y, labels=[0, 1, 2])\r\n",
    "\r\n",
    "    # Print Metrics\r\n",
    "\r\n",
    "    wandb.log({\"Test\": {\"accuracy_score\": accuracy_score(Ytest, predict_y),\r\n",
    "               \"precision_score\": precision_score(Ytest, predict_y, average='weighted'),\r\n",
    "                        \"recall_score\": recall_score(Ytest, predict_y, average=\"weighted\")}})\r\n",
    "\r\n",
    "    table = wandb.Table(data=df, columns=[df_features, df_target])\r\n",
    "    wandb.log({\"Data Table\": table})\r\n",
    "\r\n",
    "    torch.onnx.export(model=model, args=(Xtrain), f=\"./models/wine_test.onnx\", input_names=['input'], output_names=['output'],\r\n",
    "                      verbose=True, do_constant_folding=True, opset_version=11)\r\n",
    "    # COPY ONNX TO WANDB RUN DIR FOR LOGGING\r\n",
    "    shutil.copy(\"./models/wine_test.onnx\",\r\n",
    "                os.path.join(wandb.run.dir,\r\n",
    "                             \"wine_test.onnx\"))\r\n",
    "    # COPY PT TO WANDB RUN DIR FOR LOGGING\r\n",
    "    shutil.copy(\"./models/wine_train.pt\",\r\n",
    "                os.path.join(wandb.run.dir, \"wine_train.pt\"))\r\n",
    "\r\n",
    "wandb.finish()\r\n",
    "torch.cuda.empty_cache()\r\n",
    "\r\n",
    "# END OF FILE"
   ]
  }
 ],
 "metadata": {
  "interpreter": {
   "hash": "778de6fd147bda85163a324ce7339acfc1c656b45f8b8593316159881a238432"
  },
  "kernelspec": {
   "display_name": "Python 3.8.6 64-bit ('torch-venv': venv)",
   "name": "python3"
  },
  "language_info": {
   "codemirror_mode": {
    "name": "ipython",
    "version": 3
   },
   "file_extension": ".py",
   "mimetype": "text/x-python",
   "name": "python",
   "nbconvert_exporter": "python",
   "pygments_lexer": "ipython3",
   "version": "3.8.6"
  },
  "orig_nbformat": 4
 },
 "nbformat": 4,
 "nbformat_minor": 2
}